{
 "cells": [
  {
   "cell_type": "code",
   "execution_count": 1,
   "id": "confused-anxiety",
   "metadata": {},
   "outputs": [
    {
     "name": "stdout",
     "output_type": "stream",
     "text": [
      "['suteuk.pdf', 'suteuk.pdf0.jpg', 'suteuk.pdf1.jpg', 'suteuk.pdf10.jpg', 'suteuk.pdf11.jpg', 'suteuk.pdf12.jpg', 'suteuk.pdf13.jpg', 'suteuk.pdf14.jpg', 'suteuk.pdf15.jpg', 'suteuk.pdf16.jpg', 'suteuk.pdf17.jpg', 'suteuk.pdf2.jpg', 'suteuk.pdf3.jpg', 'suteuk.pdf4.jpg', 'suteuk.pdf5.jpg', 'suteuk.pdf6.jpg', 'suteuk.pdf7.jpg', 'suteuk.pdf8.jpg', 'suteuk.pdf9.jpg']\n"
     ]
    }
   ],
   "source": [
    "import os \n",
    "file_list = os.listdir(\"./source/\")\n",
    "print(file_list)\n",
    "\n"
   ]
  },
  {
   "cell_type": "code",
   "execution_count": 6,
   "id": "single-doctrine",
   "metadata": {},
   "outputs": [],
   "source": [
    "from pdf2image import convert_from_path \n",
    "for file_name in file_list:\n",
    "    pages = convert_from_path(\"./source/\" + file_name) \n",
    "\n",
    "    for i, page in enumerate(pages): \n",
    "        page.save(\"./source/\"+file_name+str(i)+\".jpg\", \"JPEG\")\n",
    "\n"
   ]
  },
  {
   "cell_type": "code",
   "execution_count": 1,
   "id": "colonial-attack",
   "metadata": {},
   "outputs": [],
   "source": [
    "from PIL import Image\n",
    "import pytesseract\n",
    "pytesseract.pytesseract.tesseract_cmd = r'C:\\Program Files\\Tesseract-OCR\\tesseract'\n",
    "import PyPDF2"
   ]
  },
  {
   "cell_type": "code",
   "execution_count": 2,
   "id": "small-understanding",
   "metadata": {},
   "outputs": [],
   "source": [
    "#순서 문제 지문 완벽화 \n",
    "def type_order(text, answer):\n",
    "    first_english = False\n",
    "    C_chunk = False\n",
    "    temp_str = \"\"\n",
    "    alphabet = ''\n",
    "    paren = ''\n",
    "    chunk = []\n",
    "    perfect_text = \"\"\n",
    "    index = 0\n",
    "    \n",
    "    # 문제에서 시작 문장, A,B,C 지문 chunk 추출하여 chunk에 저장. \n",
    "    while index < len(text):\n",
    "        if ord('a') <= ord(text[index].lower()) <= ord('z'):\n",
    "            first_english = True\n",
    "        if first_english:\n",
    "            if text[index] == '(':\n",
    "                alphabet = text[index+1]\n",
    "                paren = text[index+2]\n",
    "                if alphabet == 'A' and paren == ')':\n",
    "                    print(temp_str)\n",
    "                    chunk.append(temp_str)\n",
    "                    temp_str = \"\"\n",
    "                    index += 3\n",
    "                    continue\n",
    "                elif(alphabet == 'B' and paren == ')'):\n",
    "                    chunk.append(temp_str)\n",
    "                    temp_str = \"\"\n",
    "                    index += 3\n",
    "                    continue\n",
    "                elif(alphabet == 'C' and paren == ')'):\n",
    "                    chunk.append(temp_str)\n",
    "                    temp_str = \"\"\n",
    "                    index += 3\n",
    "                    C_chunk = True\n",
    "                    continue\n",
    "            elif text[index] == '\\n':\n",
    "                if(C_chunk):\n",
    "                    if(text[index+1] == '\\n'):\n",
    "                        break\n",
    "                index += 1\n",
    "                continue\n",
    "            temp_str += text[index]\n",
    "            first_english = True\n",
    "        index += 1\n",
    "    chunk.append(temp_str)\n",
    "    \n",
    "    #시작 문장 insert\n",
    "    pefect_text = chunk[0]\n",
    "    #A-C-B\n",
    "    if answer == 1:\n",
    "        perfect_text += chunk[1]\n",
    "        perfect_text += chunk[3]\n",
    "        perfect_text += chunk[2]\n",
    "    #B-A-C\n",
    "    elif answer == 2:\n",
    "        perfect_text += chunk[2]\n",
    "        perfect_text += chunk[1]\n",
    "        perfect_text += chunk[3]\n",
    "    #B-C-A\n",
    "    elif answer == 3:\n",
    "        perfect_text += chunk[2]\n",
    "        perfect_text += chunk[3]\n",
    "        perfect_text += chunk[1]\n",
    "    #C-A-B\n",
    "    elif answer == 4:\n",
    "        perfect_text += chunk[3]\n",
    "        perfect_text += chunk[1]\n",
    "        perfect_text += chunk[2]\n",
    "    #C-B-A\n",
    "    elif answer == 5:\n",
    "        perfect_text += chunk[3]\n",
    "        perfect_text += chunk[2]\n",
    "        perfect_text += chunk[1]\n",
    "        \n",
    "    return perfect_text\n",
    "    "
   ]
  },
  {
   "cell_type": "code",
   "execution_count": 3,
   "id": "intimate-third",
   "metadata": {},
   "outputs": [],
   "source": [
    "#빈칸 문제 지문 완벽화 \n",
    "def type_blank(text, answer):\n",
    "    perfect_text = []\n",
    "    return perfect_text"
   ]
  },
  {
   "cell_type": "code",
   "execution_count": 4,
   "id": "through-homeless",
   "metadata": {
    "scrolled": true
   },
   "outputs": [],
   "source": [
    "def scan_img(text,answer,total_img_num):\n",
    "    i = 0\n",
    "    for i in range(total_img_num):\n",
    "        img = Image.open(\"input\"+str(i)+\".png\")\n",
    "        #one_text = pytesseract.image_to_string(img, lang='eng')\n",
    "        one_text = pytesseract.image_to_string(img, lang='kor+eng')\n",
    "        text.append(one_text)\n",
    "        answer.append(2)\n",
    "        type.append(\"order\")\n",
    "\n",
    "    "
   ]
  },
  {
   "cell_type": "code",
   "execution_count": 5,
   "id": "speaking-wheel",
   "metadata": {},
   "outputs": [],
   "source": [
    "#읽어들인 지문 정제. 다수의 텍스트에서 유형 판별하여 해당 함수 호출. \n",
    "def text_refinement(text, answer, type):\n",
    "    i = 0\n",
    "    for j in text[i]:\n",
    "        #빈칸 확인\n",
    "        if type[j] == \"order\":\n",
    "            text[i] = type_order(text[i],answer[i])\n",
    "            continue\n",
    "        elif type[j] == \"blank\":\n",
    "            text[i] = type_blank(text[i],answer[i])\n",
    "            continue\n",
    "        \n",
    "    \"\"\"\"blank_flag = False\n",
    "    order_flag = False\n",
    "    for i in range(len(text)):\n",
    "        print(text[i])\n",
    "        for j in text[i] :\n",
    "            #빈칸 확인\n",
    "            if j == '빈':\n",
    "                blank_flag = True\n",
    "                continue\n",
    "            if blank_flag:\n",
    "                if(j == '칸'):\n",
    "                    text[i] = type_blank(text[i],answer[i])\n",
    "                    break\n",
    "                else:\n",
    "                    blank_flag = False\n",
    "            #순서 확인\n",
    "            if j == '어':\n",
    "                order_flag = True\n",
    "                continue\n",
    "            if order_flag:\n",
    "                if(j == '질'):\n",
    "                    text[i] = type_order(text[i],answer[i])\n",
    "                    print(text[i])\n",
    "                    break\n",
    "                else:\n",
    "                    order_flag = False\"\"\"\""
   ]
  },
  {
   "cell_type": "code",
   "execution_count": 6,
   "id": "acting-naples",
   "metadata": {},
   "outputs": [
    {
     "name": "stdout",
     "output_type": "stream",
     "text": [
      " \n",
      "\n",
      "© Cs zh Boz se 7 Awe AS TEAle,\n",
      "\n",
      "The creativity that children possess needs to be cultivated throughout their\n",
      "development. Research suggests that overstructuring the child’s environment may\n",
      "actually limit creative and academic development. This is a central problem with\n",
      "much of science instruction. The exercises or activities are devised to eliminate\n",
      "different options and to focus on predetermined results. The answers are structured\n",
      "to fit the course assessments, and the wonder of science is lost along with cognitive\n",
      "intrigue. We define cognitive intrigue as the wonder that stimulates and intrinsically\n",
      "motivates an individual to voluntarily engage in an activity. The loss of cognitive\n",
      "intrigue may be initiated by the sole use of play items with predetermined\n",
      "conclusions and reinforced by rote instruction in school. This is exemplified by\n",
      "toys, games, and lessons that are a(n) in and of themselves and\n",
      "\n",
      "require little of the individual other than to master the planned objective. [3 %]]\n",
      "* rote: 7|AIAI2! 27]\n",
      "\n",
      "@® end 2) input (3) puzzle\n",
      "\n",
      "} interest 5) alternative\n",
      "\n",
      " \n",
      "\n",
      "(20178H= +S Sol 31!)\n",
      "\f",
      "\n",
      " \n",
      "\n",
      "(36~37] 4018 @ CBO! O11 BO SME TE Awet\n",
      "2g T2A2.\n",
      "\n",
      "36,\n",
      "\n",
      " \n",
      "\n",
      "“The objective of battle, wo “throw” the enemy and to\n",
      "make him defenseless, may temporarity blind commanders\n",
      "and even strategists to the larger purpose of war, Waris\n",
      "never an isolated act, nor is it ever only one decision.\n",
      "\n",
      " \n",
      "\n",
      " \n",
      "\n",
      " \n",
      "\n",
      " \n",
      "\n",
      "(A) To be political, a political entity of a representative of a\n",
      "politcal entity, whatever its constitutional form, has to\n",
      "hhave an intention, a will. That intention has to be clearly\n",
      "expressed\n",
      "\n",
      "{(B) Inthe ral world, war's larger purpose is always apolitical\n",
      "purpose, It transcends the use of force. This insight was\n",
      "famously captured by Clausewitz's most famous phrase,\n",
      "“War is a mere continuation of polities by other means.\"\n",
      "\n",
      "(C) And one side's will has to be transmitted tothe enemy at\n",
      "some point during the confrontation (it does not have to be\n",
      "publicly communicated, A violent act and ts larger political\n",
      "intention must also be attributed to one side at some point\n",
      "during the confrontation, History does not know of acts of\n",
      "\\war without eventual atibution,\n",
      "\n",
      "scentty: 2M] ee transcend: 2418}¢}\n",
      "DiA)-©-@) 2 @B)-()- ©\n",
      "\n",
      "2 @)-C- @ (©) (4) @)\n",
      "B©- ~~\n",
      "\n",
      " \n",
      "\n",
      "0 SATO ae Rae HADATSHIeO BSL.\n",
      "\f",
      "\n",
      "ae\n",
      "\n",
      "20 FOE S CSO OUD S2| SMB 7S Awst AL?\n",
      "\n",
      " \n",
      "\n",
      "[21005-0222] )\n",
      "Deforestation causes more than the loss of trees for fuel, building materials, paper\n",
      "\n",
      "products, or manufacturing. Another related issue in the deforestation equation is soil\n",
      "erosion.\n",
      "\n",
      " \n",
      "\n",
      "(A) Once the trees are removed, there is little replenishing of this energy supply. Soil\n",
      "erosion in tropical areas makes it hard for forests to grow back once they have been\n",
      "removed. Landslides can be a more severe component of the soil erosion problem.\n",
      "\n",
      "(B) Without the trees to hold the soil during heavy rains, soils are eroded away, leaving\n",
      "the ground in an unproductive state. In tropical areas, soils are often degraded and\n",
      "lack nutrients. Most of the nutrients in the tropical areas rest in decaying material at\n",
      "the base of the trees that supplies energy back into the ecosystem.\n",
      "\n",
      "(C) After heavy rainfall, entire hillsides saturated with water can slide downward, causing\n",
      "serious structural damage to buildings, homes, and agricultural plots. Tree roots help\n",
      "hold hillsides together and therefore help prevent landslides.\n",
      "\n",
      "* replenish @2stch, CLA| HSC} ** saturate ACSC}\n",
      "\n",
      "© O(A)-(©)-@B) ® (B)-(A)-© ® (B)- (C)-(A)\n",
      "@(C)-(A)-@B) © (C)-(B)-(A)\n",
      "\n",
      "180 EBs\n",
      "\n",
      "Jin\n",
      "Ww\n",
      "og\n",
      "2\n",
      "\n",
      "4\n",
      "olr\n",
      "\n",
      "RH 1.indb 180 © 20s ts12e ee 3:q7\n",
      "\f",
      "\n"
     ]
    }
   ],
   "source": [
    "text = []\n",
    "answer = []\n",
    "type = []\n",
    "total_img_num = 3\n",
    "scan_img(text,answer,total_img_num) # scan multiple image\n",
    "text_refinement(text,answer)"
   ]
  },
  {
   "cell_type": "code",
   "execution_count": 3,
   "id": "nonprofit-vietnamese",
   "metadata": {},
   "outputs": [],
   "source": [
    "#pdf 파일 읽기\n",
    "pdf_file = open('Can1.pdf', 'rb')\n",
    "read_pdf = PyPDF2.PdfFileReader(pdf_file)\n",
    "# 전체 페이지 수 확인\n",
    "number_of_pages = read_pdf.getNumPages()"
   ]
  },
  {
   "cell_type": "code",
   "execution_count": 4,
   "id": "competitive-realtor",
   "metadata": {},
   "outputs": [
    {
     "data": {
      "text/plain": [
       "2"
      ]
     },
     "execution_count": 4,
     "metadata": {},
     "output_type": "execute_result"
    }
   ],
   "source": [
    "pages = []\n",
    "def readPages(pageNum):\n",
    "    page = read_pdf.getPage(pageNum)\n",
    "    page_content = page.extractText()\n",
    "    page_content = page_content.replace(\"\\\\n\\\\n\",\"\").replace(\"\\\\n\",\"\").replace(\"™\",\"\").replace(\"Š\",\"s\")\n",
    "    pages.append(page_content)\n",
    "for pageNum in range(0,number_of_pages) :\n",
    "    readPages(pageNum)\n",
    "len(pages)"
   ]
  },
  {
   "cell_type": "code",
   "execution_count": 5,
   "id": "assisted-correlation",
   "metadata": {},
   "outputs": [
    {
     "name": "stdout",
     "output_type": "stream",
     "text": [
      "Reflecting on the extremely \n",
      "rare occasions in which we fundamentally reframe our understanding \n",
      "of the universe causes us to think carefully about the limits on the role of science. Science is the \n",
      "art of measuring and of developing models to produce predictions. Discussions about scie\n",
      "ntific \n",
      "models often provoke deeper questions about why the universe is in the condition it is in. What \n",
      "actually is electrical charge? Why is there a gravitational pull between objects? Why do we have \n",
      "the particles we have and not others? Science presses ha\n",
      "rd on these questions, closing in as far as \n",
      "it may, but ultimately questions about why things are as they are, as opposed to what they are, \n",
      "lead us into the realms of philosophy and religion. Science can clear away much of the falsehood \n",
      "on the way, but the\n",
      " \n",
      "ultimate questions of reality call more for acts of belief than scientific \n",
      "\n",
      "explanation. \n",
      " \n",
      "\n"
     ]
    }
   ],
   "source": [
    "print(pages[1])"
   ]
  },
  {
   "cell_type": "code",
   "execution_count": 6,
   "id": "subsequent-muscle",
   "metadata": {},
   "outputs": [
    {
     "name": "stdout",
     "output_type": "stream",
     "text": [
      "0:t leave the office or home to volunteer?\n",
      "everything these days, there is also a way to volunteer and help others out from \n",
      "virtual volunteering\n",
      "website lists countless virtual volunteering opportunities \n",
      "website and start virtual volunteering today!\n",
      "1:of the universe causes us to think carefully about the limits on the role of science.\n",
      "models often provoke deeper questions about why the universe is in the condition it is in.\n",
      "it may, but ultimately questions about why things are as they are, as opposed to what they are, \n"
     ]
    }
   ],
   "source": [
    "from gensim.summarization.summarizer import summarize\n",
    "summarized_pages=[]\n",
    "for page in range(0, number_of_pages) :\n",
    "    try :\n",
    "        summarized_pages.append(summarize(pages[page]))\n",
    "    except ValueError: \n",
    "        summarized_pages.append(pages[page])\n",
    "len(summarized_pages)\n",
    "for page in range(0, number_of_pages) :\n",
    "    summarized_pages[page] = summarized_pages[page].replace(\"\\\\n\",\"\")\n",
    "    print(str(page)+\":\"+summarized_pages[page])"
   ]
  },
  {
   "cell_type": "code",
   "execution_count": 7,
   "id": "popular-retro",
   "metadata": {},
   "outputs": [
    {
     "name": "stdout",
     "output_type": "stream",
     "text": [
      "of the universe causes us to think carefully about the limits on the role of science.\n",
      "models often provoke deeper questions about why the universe is in the condition it is in.\n",
      "it may, but ultimately questions about why things are as they are, as opposed to what they are, \n"
     ]
    }
   ],
   "source": [
    "print(summarized_pages[1])"
   ]
  },
  {
   "cell_type": "code",
   "execution_count": null,
   "id": "animated-theta",
   "metadata": {},
   "outputs": [],
   "source": []
  }
 ],
 "metadata": {
  "kernelspec": {
   "display_name": "Python 3",
   "language": "python",
   "name": "python3"
  },
  "language_info": {
   "codemirror_mode": {
    "name": "ipython",
    "version": 3
   },
   "file_extension": ".py",
   "mimetype": "text/x-python",
   "name": "python",
   "nbconvert_exporter": "python",
   "pygments_lexer": "ipython3",
   "version": "3.8.8"
  }
 },
 "nbformat": 4,
 "nbformat_minor": 5
}
